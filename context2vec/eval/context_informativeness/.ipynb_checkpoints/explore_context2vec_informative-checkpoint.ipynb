{
 "cells": [
  {
   "cell_type": "code",
   "execution_count": 1,
   "metadata": {},
   "outputs": [],
   "source": [
    "#!/usr/bin/env python\n",
    "import numpy\n",
    "import six\n",
    "import sys\n",
    "import traceback\n",
    "import re\n",
    "import pickle\n",
    "\n",
    "\n",
    "from chainer import cuda\n",
    "from context2vec.common.context_models import Toks\n",
    "from context2vec.common.model_reader import ModelReader\n",
    "import sklearn\n"
   ]
  },
  {
   "cell_type": "code",
   "execution_count": 2,
   "metadata": {},
   "outputs": [],
   "source": [
    "def mult_sim(w, target_v, context_v):\n",
    "    target_similarity = w.dot(target_v)\n",
    "    target_similarity[target_similarity<0] = 0.0\n",
    "    context_similarity = w.dot(context_v)\n",
    "    context_similarity[context_similarity<0] = 0.0\n",
    "    return (target_similarity * context_similarity)\n"
   ]
  },
  {
   "cell_type": "code",
   "execution_count": 3,
   "metadata": {
    "scrolled": true
   },
   "outputs": [
    {
     "name": "stdout",
     "output_type": "stream",
     "text": [
      "Reading config file: ../../../model_dir/context2vec.ukwac.model.params\n",
      "Config:  {'config_path': '../../../model_dir/', 'model_file': 'context2vec.ukwac.model', 'deep': 'yes', 'drop_ratio': '0.0', 'words_file': 'context2vec.ukwac.words.targets', 'unit': '300'}\n"
     ]
    }
   ],
   "source": [
    "\n",
    "if __name__==\"__main__\":\n",
    "    if sys.argv[0]=='/usr/local/lib/python2.7/dist-packages/ipykernel_launcher.py':\n",
    "        model_param_file='../../../model_dir/context2vec.ukwac.model.params'\n",
    "    else:\n",
    "        if len(sys.argv) < 2:\n",
    "            print >> sys.stderr, \"Usage: %s <model-param-file>\"  % (sys.argv[0])\n",
    "            sys.exit(1)\n",
    "\n",
    "            model_param_file = sys.argv[1]\n",
    "            \n",
    "\n",
    "    #read in model\n",
    "    model_reader = ModelReader(model_param_file)\n",
    "    w = model_reader.w\n",
    "    word2index = model_reader.word2index\n",
    "    index2word = model_reader.index2word\n",
    "    model = model_reader.model"
   ]
  },
  {
   "cell_type": "code",
   "execution_count": 12,
   "metadata": {},
   "outputs": [],
   "source": [
    "# #PCA\n",
    "# from sklearn.manifold import TSNE\n",
    "# we_tsne=TSNE(n_components=2,verbose=5).fit_transform(w)\n",
    "we_tsne=pickle.load(open('we_tsne'))\n",
    "index_filter2index=pickle.load(open('index_filter2index'))\n",
    "index_filter=pickle.load(open('index_filter'))"
   ]
  },
  {
   "cell_type": "code",
   "execution_count": 71,
   "metadata": {},
   "outputs": [
    {
     "name": "stdout",
     "output_type": "stream",
     "text": [
      "coffee: 1.0\n",
      "tea: 0.852044343948\n",
      "coffee/tea: 0.783925056458\n",
      "tea/coffee: 0.767986834049\n",
      "coffees: 0.767591357231\n",
      "chocolate: 0.767258286476\n",
      "cocoa: 0.762248694897\n",
      "wine: 0.755311012268\n",
      "cappuccino: 0.755276560783\n",
      "pizza: 0.753685593605\n",
      "beer: 0.750517606735\n",
      "cider: 0.74499720335\n",
      "banana: 0.738207519054\n",
      "espresso: 0.737611055374\n",
      "drinks: 0.735736608505\n",
      "latte: 0.731655359268\n",
      "vodka: 0.728614389896\n",
      "cheese: 0.7285374403\n",
      "sugar: 0.728473126888\n",
      "pasta: 0.7277957201\n",
      "lunch: 0.72730576992\n",
      "lemonade: 0.724865317345\n",
      "champagne: 0.723608016968\n",
      "yogurt: 0.72188013792\n",
      "yoghurt: 0.721248209476\n",
      "teas: 0.72030466795\n",
      "sherry: 0.720196604729\n",
      "snack: 0.719781279564\n",
      "beverage: 0.718898177147\n",
      "tequila: 0.718877315521\n",
      "coffee.: 0.718729972839\n",
      "ice-cream: 0.716157078743\n",
      "kebab: 0.715119957924\n",
      "food: 0.714534342289\n",
      "tobacco: 0.714402019978\n",
      "curry: 0.713909745216\n",
      "whisky: 0.710548639297\n",
      "cereal: 0.710098922253\n",
      "beverages: 0.709929168224\n",
      "couscous: 0.707373142242\n",
      "refreshments: 0.707286953926\n",
      "sausage: 0.706336975098\n",
      "aperitif: 0.705699920654\n",
      "dessert: 0.70401006937\n",
      "milk: 0.703937888145\n",
      "snacks: 0.703779399395\n",
      "refreshment: 0.703453838825\n",
      "breakfast: 0.702179253101\n",
      "meal: 0.701703310013\n",
      "bourbon: 0.701680183411\n"
     ]
    }
   ],
   "source": [
    "# test we_pc\n",
    "# s = numpy.sqrt((we_pc * we_pc).sum(1))\n",
    "# s[s==0.] = 1.\n",
    "# we_pc /= s.reshape((s.shape[0], 1))\n",
    "target_v=w_filter[index2index_filter[word2index['coffee']]]\n",
    "similarity = (w_filter.dot(target_v)+1.0)/2\n",
    "# setup            \n",
    "n_result = 50  # number of search result to show\n",
    "gpu = -1 # todo: make this work with gpu\n",
    "\n",
    "if gpu >= 0:\n",
    "    cuda.check_cuda_available()\n",
    "    cuda.get_device(gpu).use()    \n",
    "xp = cuda.cupy if gpu >= 0 else numpy\n",
    "\n",
    "\n",
    "#test most similar words\n",
    "\n",
    "count = 0\n",
    "for i in (-similarity).argsort():\n",
    "            if xp.isnan(similarity[i]):\n",
    "                continue\n",
    "            print('{0}: {1}'.format(index2word[index_filter[i]], similarity[i]))\n",
    "            count += 1\n",
    "            if count == 50:\n",
    "                break"
   ]
  },
  {
   "cell_type": "code",
   "execution_count": null,
   "metadata": {},
   "outputs": [],
   "source": []
  },
  {
   "cell_type": "code",
   "execution_count": 67,
   "metadata": {},
   "outputs": [
    {
     "name": "stdout",
     "output_type": "stream",
     "text": [
      "asparagus: 0.547944009304\n",
      "celery: 0.538883209229\n",
      "nutmeg: 0.53382140398\n",
      "kale: 0.533522903919\n",
      "lettuce: 0.530146718025\n",
      "celeriac: 0.527748167515\n",
      "wisteria: 0.527743458748\n",
      "tofu: 0.527273356915\n",
      "parsley: 0.526740133762\n",
      "fennel: 0.526214182377\n",
      "marzipan: 0.526172101498\n",
      "chicory: 0.526168167591\n",
      "chocolate: 0.526058375835\n",
      "cress: 0.525978922844\n",
      "pectin: 0.524245917797\n",
      "borage: 0.523983478546\n",
      "wormwood: 0.523886263371\n",
      "...there: 0.523620426655\n",
      "hyssop: 0.523167669773\n",
      "rhubarb: 0.523059904575\n",
      "buckwheat: 0.523050546646\n",
      "broccoli: 0.522978425026\n",
      "basmati: 0.522893548012\n",
      "honey: 0.522631525993\n",
      "frosting: 0.522601008415\n",
      "myrrh: 0.522095918655\n",
      "marbling: 0.521934390068\n",
      "carrot: 0.521511077881\n",
      "fructose: 0.52117472887\n",
      "mistletoe: 0.521142184734\n",
      "pumpkin: 0.520851910114\n",
      "coriander: 0.520737349987\n",
      "meringue: 0.520626366138\n",
      "maize: 0.520589113235\n",
      "avocado: 0.520562946796\n",
      "fruit: 0.520513474941\n",
      "okra: 0.520162284374\n",
      "turmeric: 0.519995689392\n",
      "free-will: 0.519396543503\n",
      "bread: 0.519349753857\n",
      "venison: 0.519316971302\n",
      "treacle: 0.519307732582\n",
      "parsnip: 0.519247710705\n",
      "ricotta: 0.518738150597\n",
      "pomegranates: 0.518437504768\n",
      "rice: 0.518009006977\n",
      "dill: 0.517928421497\n",
      "watercress: 0.51773160696\n",
      "lollipop: 0.517530798912\n",
      "frankincense: 0.517293274403\n"
     ]
    }
   ],
   "source": [
    "#a test sentence\n",
    "sentence='Avocado is a fruit .'\n",
    "words=sentence.split()\n",
    "context_embed= model_reader.model.context2vec(words, 0)\n",
    "context_embed = context_embed / xp.sqrt((context_embed * context_embed).sum())\n",
    "# similarity \n",
    "similarity = (w_filter.dot(context_embed)+1.0)/2\n",
    "\n",
    "count = 0\n",
    "for i in (-similarity).argsort():\n",
    "            if xp.isnan(similarity[i]):\n",
    "                continue\n",
    "            print('{0}: {1}'.format(index2word[index_filter[i]], similarity[i]))\n",
    "            count += 1\n",
    "            if count == n_result:\n",
    "                break"
   ]
  },
  {
   "cell_type": "code",
   "execution_count": null,
   "metadata": {},
   "outputs": [],
   "source": [
    "#graph\n",
    "\n",
    "import matplotlib.pyplot as plt\n",
    "%matplotlib notebook\n",
    "top_n=50\n",
    "top_n_sort=(-similarity).argsort()[:top_n]\n",
    "x,y=zip(*we_pc[top_n_sort,:])\n",
    "\n",
    "c=zip(similarity[top_n_sort],[0.2]*top_n,[0.4]*top_n)\n",
    "plt.scatter(x, y,c=c,alpha=0.5)\n",
    "\n",
    "\n",
    "#annotate text\n",
    "for cur_i,i in enumerate(top_n_sort):\n",
    "    plt.annotate(index2word[i],(x[cur_i],y[cur_i]))\n",
    "plt.ylim(-0.2,0.2)\n",
    "plt.xlim(-0.2,0.2)\n",
    "plt.show()\n",
    "#c\n",
    "\n"
   ]
  }
 ],
 "metadata": {
  "kernelspec": {
   "display_name": "Python 2",
   "language": "python",
   "name": "python2"
  },
  "language_info": {
   "codemirror_mode": {
    "name": "ipython",
    "version": 2
   },
   "file_extension": ".py",
   "mimetype": "text/x-python",
   "name": "python",
   "nbconvert_exporter": "python",
   "pygments_lexer": "ipython2",
   "version": "2.7.12"
  }
 },
 "nbformat": 4,
 "nbformat_minor": 2
}
